{
 "cells": [
  {
   "cell_type": "markdown",
   "metadata": {},
   "source": [
    "# 1. 데이터 준비"
   ]
  },
  {
   "cell_type": "markdown",
   "metadata": {},
   "source": [
    "### 1) 라이브러리 호출"
   ]
  },
  {
   "cell_type": "code",
   "execution_count": 1,
   "metadata": {},
   "outputs": [],
   "source": [
    "import pandas as pd\n",
    "import numpy as np\n",
    "import sklearn\n",
    "from sklearn.neighbors import NearestNeighbors"
   ]
  },
  {
   "cell_type": "markdown",
   "metadata": {},
   "source": [
    "### 2) 데이터 불러오기"
   ]
  },
  {
   "cell_type": "code",
   "execution_count": 3,
   "metadata": {},
   "outputs": [],
   "source": [
    "df = pd.read_csv('data/nutrition_data.csv',encoding='euc-kr')"
   ]
  },
  {
   "cell_type": "markdown",
   "metadata": {},
   "source": [
    "### 3) EDA"
   ]
  },
  {
   "cell_type": "code",
   "execution_count": 4,
   "metadata": {},
   "outputs": [
    {
     "data": {
      "text/html": [
       "<div>\n",
       "<style scoped>\n",
       "    .dataframe tbody tr th:only-of-type {\n",
       "        vertical-align: middle;\n",
       "    }\n",
       "\n",
       "    .dataframe tbody tr th {\n",
       "        vertical-align: top;\n",
       "    }\n",
       "\n",
       "    .dataframe thead th {\n",
       "        text-align: right;\n",
       "    }\n",
       "</style>\n",
       "<table border=\"1\" class=\"dataframe\">\n",
       "  <thead>\n",
       "    <tr style=\"text-align: right;\">\n",
       "      <th></th>\n",
       "      <th>num</th>\n",
       "      <th>food_name</th>\n",
       "      <th>standard_amount</th>\n",
       "      <th>kcal</th>\n",
       "      <th>protein</th>\n",
       "      <th>fat</th>\n",
       "      <th>carb</th>\n",
       "      <th>sugar</th>\n",
       "      <th>sodium</th>\n",
       "    </tr>\n",
       "  </thead>\n",
       "  <tbody>\n",
       "    <tr>\n",
       "      <th>0</th>\n",
       "      <td>1</td>\n",
       "      <td>월남쌈</td>\n",
       "      <td>100g</td>\n",
       "      <td>118.0</td>\n",
       "      <td>5.94</td>\n",
       "      <td>4.97</td>\n",
       "      <td>12.25</td>\n",
       "      <td>5.50</td>\n",
       "      <td>230.0</td>\n",
       "    </tr>\n",
       "    <tr>\n",
       "      <th>1</th>\n",
       "      <td>2</td>\n",
       "      <td>와플</td>\n",
       "      <td>100g</td>\n",
       "      <td>292.4</td>\n",
       "      <td>4.52</td>\n",
       "      <td>3.37</td>\n",
       "      <td>40.35</td>\n",
       "      <td>15.12</td>\n",
       "      <td>214.8</td>\n",
       "    </tr>\n",
       "    <tr>\n",
       "      <th>2</th>\n",
       "      <td>3</td>\n",
       "      <td>토르티야</td>\n",
       "      <td>100g</td>\n",
       "      <td>218.0</td>\n",
       "      <td>5.70</td>\n",
       "      <td>4.70</td>\n",
       "      <td>43.40</td>\n",
       "      <td>0.80</td>\n",
       "      <td>417.0</td>\n",
       "    </tr>\n",
       "    <tr>\n",
       "      <th>3</th>\n",
       "      <td>4</td>\n",
       "      <td>타코</td>\n",
       "      <td>100g</td>\n",
       "      <td>246.0</td>\n",
       "      <td>15.31</td>\n",
       "      <td>13.56</td>\n",
       "      <td>15.62</td>\n",
       "      <td>0.33</td>\n",
       "      <td>367.0</td>\n",
       "    </tr>\n",
       "    <tr>\n",
       "      <th>4</th>\n",
       "      <td>5</td>\n",
       "      <td>티라미수</td>\n",
       "      <td>100g</td>\n",
       "      <td>353.0</td>\n",
       "      <td>5.65</td>\n",
       "      <td>23.86</td>\n",
       "      <td>29.44</td>\n",
       "      <td>18.70</td>\n",
       "      <td>173.0</td>\n",
       "    </tr>\n",
       "  </tbody>\n",
       "</table>\n",
       "</div>"
      ],
      "text/plain": [
       "   num food_name standard_amount   kcal  protein    fat   carb  sugar  sodium\n",
       "0    1       월남쌈            100g  118.0     5.94   4.97  12.25   5.50   230.0\n",
       "1    2        와플            100g  292.4     4.52   3.37  40.35  15.12   214.8\n",
       "2    3      토르티야            100g  218.0     5.70   4.70  43.40   0.80   417.0\n",
       "3    4        타코            100g  246.0    15.31  13.56  15.62   0.33   367.0\n",
       "4    5      티라미수            100g  353.0     5.65  23.86  29.44  18.70   173.0"
      ]
     },
     "execution_count": 4,
     "metadata": {},
     "output_type": "execute_result"
    }
   ],
   "source": [
    "df.head()"
   ]
  },
  {
   "cell_type": "code",
   "execution_count": 5,
   "metadata": {},
   "outputs": [
    {
     "data": {
      "text/html": [
       "<div>\n",
       "<style scoped>\n",
       "    .dataframe tbody tr th:only-of-type {\n",
       "        vertical-align: middle;\n",
       "    }\n",
       "\n",
       "    .dataframe tbody tr th {\n",
       "        vertical-align: top;\n",
       "    }\n",
       "\n",
       "    .dataframe thead th {\n",
       "        text-align: right;\n",
       "    }\n",
       "</style>\n",
       "<table border=\"1\" class=\"dataframe\">\n",
       "  <thead>\n",
       "    <tr style=\"text-align: right;\">\n",
       "      <th></th>\n",
       "      <th>num</th>\n",
       "      <th>kcal</th>\n",
       "      <th>protein</th>\n",
       "      <th>fat</th>\n",
       "      <th>carb</th>\n",
       "      <th>sugar</th>\n",
       "      <th>sodium</th>\n",
       "    </tr>\n",
       "  </thead>\n",
       "  <tbody>\n",
       "    <tr>\n",
       "      <th>count</th>\n",
       "      <td>93.000000</td>\n",
       "      <td>93.000000</td>\n",
       "      <td>93.000000</td>\n",
       "      <td>93.000000</td>\n",
       "      <td>93.000000</td>\n",
       "      <td>92.000000</td>\n",
       "      <td>93.000000</td>\n",
       "    </tr>\n",
       "    <tr>\n",
       "      <th>mean</th>\n",
       "      <td>47.000000</td>\n",
       "      <td>224.906237</td>\n",
       "      <td>8.179785</td>\n",
       "      <td>9.134409</td>\n",
       "      <td>25.115161</td>\n",
       "      <td>6.485435</td>\n",
       "      <td>327.368172</td>\n",
       "    </tr>\n",
       "    <tr>\n",
       "      <th>std</th>\n",
       "      <td>26.990739</td>\n",
       "      <td>123.487710</td>\n",
       "      <td>5.897311</td>\n",
       "      <td>7.415152</td>\n",
       "      <td>20.413844</td>\n",
       "      <td>9.707216</td>\n",
       "      <td>240.281200</td>\n",
       "    </tr>\n",
       "    <tr>\n",
       "      <th>min</th>\n",
       "      <td>1.000000</td>\n",
       "      <td>2.210000</td>\n",
       "      <td>0.000000</td>\n",
       "      <td>0.000000</td>\n",
       "      <td>0.000000</td>\n",
       "      <td>0.000000</td>\n",
       "      <td>0.190000</td>\n",
       "    </tr>\n",
       "    <tr>\n",
       "      <th>25%</th>\n",
       "      <td>24.000000</td>\n",
       "      <td>126.450000</td>\n",
       "      <td>4.520000</td>\n",
       "      <td>3.390000</td>\n",
       "      <td>7.820000</td>\n",
       "      <td>0.717500</td>\n",
       "      <td>185.000000</td>\n",
       "    </tr>\n",
       "    <tr>\n",
       "      <th>50%</th>\n",
       "      <td>47.000000</td>\n",
       "      <td>218.000000</td>\n",
       "      <td>7.100000</td>\n",
       "      <td>6.430000</td>\n",
       "      <td>22.020000</td>\n",
       "      <td>2.460000</td>\n",
       "      <td>302.000000</td>\n",
       "    </tr>\n",
       "    <tr>\n",
       "      <th>75%</th>\n",
       "      <td>70.000000</td>\n",
       "      <td>300.500000</td>\n",
       "      <td>9.630000</td>\n",
       "      <td>14.000000</td>\n",
       "      <td>39.750000</td>\n",
       "      <td>5.535000</td>\n",
       "      <td>409.000000</td>\n",
       "    </tr>\n",
       "    <tr>\n",
       "      <th>max</th>\n",
       "      <td>93.000000</td>\n",
       "      <td>535.000000</td>\n",
       "      <td>32.520000</td>\n",
       "      <td>29.660000</td>\n",
       "      <td>82.200000</td>\n",
       "      <td>51.500000</td>\n",
       "      <td>1480.000000</td>\n",
       "    </tr>\n",
       "  </tbody>\n",
       "</table>\n",
       "</div>"
      ],
      "text/plain": [
       "             num        kcal    protein        fat       carb      sugar  \\\n",
       "count  93.000000   93.000000  93.000000  93.000000  93.000000  92.000000   \n",
       "mean   47.000000  224.906237   8.179785   9.134409  25.115161   6.485435   \n",
       "std    26.990739  123.487710   5.897311   7.415152  20.413844   9.707216   \n",
       "min     1.000000    2.210000   0.000000   0.000000   0.000000   0.000000   \n",
       "25%    24.000000  126.450000   4.520000   3.390000   7.820000   0.717500   \n",
       "50%    47.000000  218.000000   7.100000   6.430000  22.020000   2.460000   \n",
       "75%    70.000000  300.500000   9.630000  14.000000  39.750000   5.535000   \n",
       "max    93.000000  535.000000  32.520000  29.660000  82.200000  51.500000   \n",
       "\n",
       "            sodium  \n",
       "count    93.000000  \n",
       "mean    327.368172  \n",
       "std     240.281200  \n",
       "min       0.190000  \n",
       "25%     185.000000  \n",
       "50%     302.000000  \n",
       "75%     409.000000  \n",
       "max    1480.000000  "
      ]
     },
     "execution_count": 5,
     "metadata": {},
     "output_type": "execute_result"
    }
   ],
   "source": [
    "df.describe()"
   ]
  },
  {
   "cell_type": "code",
   "execution_count": 7,
   "metadata": {},
   "outputs": [
    {
     "data": {
      "text/html": [
       "<div>\n",
       "<style scoped>\n",
       "    .dataframe tbody tr th:only-of-type {\n",
       "        vertical-align: middle;\n",
       "    }\n",
       "\n",
       "    .dataframe tbody tr th {\n",
       "        vertical-align: top;\n",
       "    }\n",
       "\n",
       "    .dataframe thead th {\n",
       "        text-align: right;\n",
       "    }\n",
       "</style>\n",
       "<table border=\"1\" class=\"dataframe\">\n",
       "  <thead>\n",
       "    <tr style=\"text-align: right;\">\n",
       "      <th></th>\n",
       "      <th>num</th>\n",
       "      <th>food_name</th>\n",
       "      <th>standard_amount</th>\n",
       "      <th>kcal</th>\n",
       "      <th>protein</th>\n",
       "      <th>fat</th>\n",
       "      <th>carb</th>\n",
       "      <th>sugar</th>\n",
       "      <th>sodium</th>\n",
       "    </tr>\n",
       "  </thead>\n",
       "  <tbody>\n",
       "    <tr>\n",
       "      <th>0</th>\n",
       "      <td>1</td>\n",
       "      <td>월남쌈</td>\n",
       "      <td>100g</td>\n",
       "      <td>118.00</td>\n",
       "      <td>5.94</td>\n",
       "      <td>4.97</td>\n",
       "      <td>12.25</td>\n",
       "      <td>5.50</td>\n",
       "      <td>230.00</td>\n",
       "    </tr>\n",
       "    <tr>\n",
       "      <th>1</th>\n",
       "      <td>2</td>\n",
       "      <td>와플</td>\n",
       "      <td>100g</td>\n",
       "      <td>292.40</td>\n",
       "      <td>4.52</td>\n",
       "      <td>3.37</td>\n",
       "      <td>40.35</td>\n",
       "      <td>15.12</td>\n",
       "      <td>214.80</td>\n",
       "    </tr>\n",
       "    <tr>\n",
       "      <th>2</th>\n",
       "      <td>3</td>\n",
       "      <td>토르티야</td>\n",
       "      <td>100g</td>\n",
       "      <td>218.00</td>\n",
       "      <td>5.70</td>\n",
       "      <td>4.70</td>\n",
       "      <td>43.40</td>\n",
       "      <td>0.80</td>\n",
       "      <td>417.00</td>\n",
       "    </tr>\n",
       "    <tr>\n",
       "      <th>3</th>\n",
       "      <td>4</td>\n",
       "      <td>타코</td>\n",
       "      <td>100g</td>\n",
       "      <td>246.00</td>\n",
       "      <td>15.31</td>\n",
       "      <td>13.56</td>\n",
       "      <td>15.62</td>\n",
       "      <td>0.33</td>\n",
       "      <td>367.00</td>\n",
       "    </tr>\n",
       "    <tr>\n",
       "      <th>4</th>\n",
       "      <td>5</td>\n",
       "      <td>티라미수</td>\n",
       "      <td>100g</td>\n",
       "      <td>353.00</td>\n",
       "      <td>5.65</td>\n",
       "      <td>23.86</td>\n",
       "      <td>29.44</td>\n",
       "      <td>18.70</td>\n",
       "      <td>173.00</td>\n",
       "    </tr>\n",
       "    <tr>\n",
       "      <th>...</th>\n",
       "      <td>...</td>\n",
       "      <td>...</td>\n",
       "      <td>...</td>\n",
       "      <td>...</td>\n",
       "      <td>...</td>\n",
       "      <td>...</td>\n",
       "      <td>...</td>\n",
       "      <td>...</td>\n",
       "      <td>...</td>\n",
       "    </tr>\n",
       "    <tr>\n",
       "      <th>88</th>\n",
       "      <td>89</td>\n",
       "      <td>치킨</td>\n",
       "      <td>100g</td>\n",
       "      <td>285.71</td>\n",
       "      <td>21.57</td>\n",
       "      <td>12.20</td>\n",
       "      <td>12.14</td>\n",
       "      <td>3.18</td>\n",
       "      <td>401.79</td>\n",
       "    </tr>\n",
       "    <tr>\n",
       "      <th>89</th>\n",
       "      <td>90</td>\n",
       "      <td>칠리크랩</td>\n",
       "      <td>100g</td>\n",
       "      <td>187.90</td>\n",
       "      <td>2.90</td>\n",
       "      <td>8.90</td>\n",
       "      <td>24.10</td>\n",
       "      <td>19.40</td>\n",
       "      <td>1044.40</td>\n",
       "    </tr>\n",
       "    <tr>\n",
       "      <th>90</th>\n",
       "      <td>91</td>\n",
       "      <td>초콜릿</td>\n",
       "      <td>100g</td>\n",
       "      <td>535.00</td>\n",
       "      <td>7.65</td>\n",
       "      <td>29.66</td>\n",
       "      <td>59.40</td>\n",
       "      <td>51.50</td>\n",
       "      <td>79.00</td>\n",
       "    </tr>\n",
       "    <tr>\n",
       "      <th>91</th>\n",
       "      <td>92</td>\n",
       "      <td>츄러스</td>\n",
       "      <td>100g</td>\n",
       "      <td>358.00</td>\n",
       "      <td>0.00</td>\n",
       "      <td>0.00</td>\n",
       "      <td>0.00</td>\n",
       "      <td>0.01</td>\n",
       "      <td>0.19</td>\n",
       "    </tr>\n",
       "    <tr>\n",
       "      <th>92</th>\n",
       "      <td>93</td>\n",
       "      <td>아메리카노 핫</td>\n",
       "      <td>100ml</td>\n",
       "      <td>4.00</td>\n",
       "      <td>0.22</td>\n",
       "      <td>0.04</td>\n",
       "      <td>0.38</td>\n",
       "      <td>0.00</td>\n",
       "      <td>1.33</td>\n",
       "    </tr>\n",
       "  </tbody>\n",
       "</table>\n",
       "<p>93 rows × 9 columns</p>\n",
       "</div>"
      ],
      "text/plain": [
       "    num food_name standard_amount    kcal  protein    fat   carb  sugar  \\\n",
       "0     1       월남쌈            100g  118.00     5.94   4.97  12.25   5.50   \n",
       "1     2        와플            100g  292.40     4.52   3.37  40.35  15.12   \n",
       "2     3      토르티야            100g  218.00     5.70   4.70  43.40   0.80   \n",
       "3     4        타코            100g  246.00    15.31  13.56  15.62   0.33   \n",
       "4     5      티라미수            100g  353.00     5.65  23.86  29.44  18.70   \n",
       "..  ...       ...             ...     ...      ...    ...    ...    ...   \n",
       "88   89        치킨            100g  285.71    21.57  12.20  12.14   3.18   \n",
       "89   90      칠리크랩            100g  187.90     2.90   8.90  24.10  19.40   \n",
       "90   91       초콜릿            100g  535.00     7.65  29.66  59.40  51.50   \n",
       "91   92       츄러스            100g  358.00     0.00   0.00   0.00   0.01   \n",
       "92   93   아메리카노 핫           100ml    4.00     0.22   0.04   0.38   0.00   \n",
       "\n",
       "     sodium  \n",
       "0    230.00  \n",
       "1    214.80  \n",
       "2    417.00  \n",
       "3    367.00  \n",
       "4    173.00  \n",
       "..      ...  \n",
       "88   401.79  \n",
       "89  1044.40  \n",
       "90    79.00  \n",
       "91     0.19  \n",
       "92     1.33  \n",
       "\n",
       "[93 rows x 9 columns]"
      ]
     },
     "execution_count": 7,
     "metadata": {},
     "output_type": "execute_result"
    }
   ],
   "source": [
    "df"
   ]
  },
  {
   "cell_type": "markdown",
   "metadata": {},
   "source": [
    "### 4) 결측값 처리"
   ]
  },
  {
   "cell_type": "code",
   "execution_count": 6,
   "metadata": {},
   "outputs": [
    {
     "data": {
      "text/plain": [
       "num                0\n",
       "food_name          0\n",
       "standard_amount    0\n",
       "kcal               0\n",
       "protein            0\n",
       "fat                0\n",
       "carb               0\n",
       "sugar              1\n",
       "sodium             0\n",
       "dtype: int64"
      ]
     },
     "execution_count": 6,
     "metadata": {},
     "output_type": "execute_result"
    }
   ],
   "source": [
    "df.isnull().sum()"
   ]
  },
  {
   "cell_type": "code",
   "execution_count": 8,
   "metadata": {},
   "outputs": [],
   "source": [
    "df_filled = df.fillna(12.23)"
   ]
  },
  {
   "cell_type": "code",
   "execution_count": 10,
   "metadata": {},
   "outputs": [
    {
     "name": "stdout",
     "output_type": "stream",
     "text": [
      "num                0\n",
      "food_name          0\n",
      "standard_amount    0\n",
      "kcal               0\n",
      "protein            0\n",
      "fat                0\n",
      "carb               0\n",
      "sugar              0\n",
      "sodium             0\n",
      "dtype: int64\n"
     ]
    }
   ],
   "source": [
    "print(df_filled.isnull().sum())"
   ]
  },
  {
   "cell_type": "code",
   "execution_count": 11,
   "metadata": {},
   "outputs": [
    {
     "name": "stdout",
     "output_type": "stream",
     "text": [
      "<class 'pandas.core.frame.DataFrame'>\n",
      "RangeIndex: 93 entries, 0 to 92\n",
      "Data columns (total 9 columns):\n",
      " #   Column           Non-Null Count  Dtype  \n",
      "---  ------           --------------  -----  \n",
      " 0   num              93 non-null     int64  \n",
      " 1   food_name        93 non-null     object \n",
      " 2   standard_amount  93 non-null     object \n",
      " 3   kcal             93 non-null     float64\n",
      " 4   protein          93 non-null     float64\n",
      " 5   fat              93 non-null     float64\n",
      " 6   carb             93 non-null     float64\n",
      " 7   sugar            93 non-null     float64\n",
      " 8   sodium           93 non-null     float64\n",
      "dtypes: float64(6), int64(1), object(2)\n",
      "memory usage: 6.7+ KB\n"
     ]
    }
   ],
   "source": [
    "df_filled.info()"
   ]
  },
  {
   "cell_type": "code",
   "execution_count": 12,
   "metadata": {},
   "outputs": [
    {
     "data": {
      "text/html": [
       "<div>\n",
       "<style scoped>\n",
       "    .dataframe tbody tr th:only-of-type {\n",
       "        vertical-align: middle;\n",
       "    }\n",
       "\n",
       "    .dataframe tbody tr th {\n",
       "        vertical-align: top;\n",
       "    }\n",
       "\n",
       "    .dataframe thead th {\n",
       "        text-align: right;\n",
       "    }\n",
       "</style>\n",
       "<table border=\"1\" class=\"dataframe\">\n",
       "  <thead>\n",
       "    <tr style=\"text-align: right;\">\n",
       "      <th></th>\n",
       "      <th>num</th>\n",
       "      <th>kcal</th>\n",
       "      <th>protein</th>\n",
       "      <th>fat</th>\n",
       "      <th>carb</th>\n",
       "      <th>sugar</th>\n",
       "      <th>sodium</th>\n",
       "    </tr>\n",
       "  </thead>\n",
       "  <tbody>\n",
       "    <tr>\n",
       "      <th>count</th>\n",
       "      <td>93.000000</td>\n",
       "      <td>93.000000</td>\n",
       "      <td>93.000000</td>\n",
       "      <td>93.000000</td>\n",
       "      <td>93.000000</td>\n",
       "      <td>93.000000</td>\n",
       "      <td>93.000000</td>\n",
       "    </tr>\n",
       "    <tr>\n",
       "      <th>mean</th>\n",
       "      <td>47.000000</td>\n",
       "      <td>224.906237</td>\n",
       "      <td>8.179785</td>\n",
       "      <td>9.134409</td>\n",
       "      <td>25.115161</td>\n",
       "      <td>6.547204</td>\n",
       "      <td>327.368172</td>\n",
       "    </tr>\n",
       "    <tr>\n",
       "      <th>std</th>\n",
       "      <td>26.990739</td>\n",
       "      <td>123.487710</td>\n",
       "      <td>5.897311</td>\n",
       "      <td>7.415152</td>\n",
       "      <td>20.413844</td>\n",
       "      <td>9.672675</td>\n",
       "      <td>240.281200</td>\n",
       "    </tr>\n",
       "    <tr>\n",
       "      <th>min</th>\n",
       "      <td>1.000000</td>\n",
       "      <td>2.210000</td>\n",
       "      <td>0.000000</td>\n",
       "      <td>0.000000</td>\n",
       "      <td>0.000000</td>\n",
       "      <td>0.000000</td>\n",
       "      <td>0.190000</td>\n",
       "    </tr>\n",
       "    <tr>\n",
       "      <th>25%</th>\n",
       "      <td>24.000000</td>\n",
       "      <td>126.450000</td>\n",
       "      <td>4.520000</td>\n",
       "      <td>3.390000</td>\n",
       "      <td>7.820000</td>\n",
       "      <td>0.720000</td>\n",
       "      <td>185.000000</td>\n",
       "    </tr>\n",
       "    <tr>\n",
       "      <th>50%</th>\n",
       "      <td>47.000000</td>\n",
       "      <td>218.000000</td>\n",
       "      <td>7.100000</td>\n",
       "      <td>6.430000</td>\n",
       "      <td>22.020000</td>\n",
       "      <td>2.470000</td>\n",
       "      <td>302.000000</td>\n",
       "    </tr>\n",
       "    <tr>\n",
       "      <th>75%</th>\n",
       "      <td>70.000000</td>\n",
       "      <td>300.500000</td>\n",
       "      <td>9.630000</td>\n",
       "      <td>14.000000</td>\n",
       "      <td>39.750000</td>\n",
       "      <td>5.640000</td>\n",
       "      <td>409.000000</td>\n",
       "    </tr>\n",
       "    <tr>\n",
       "      <th>max</th>\n",
       "      <td>93.000000</td>\n",
       "      <td>535.000000</td>\n",
       "      <td>32.520000</td>\n",
       "      <td>29.660000</td>\n",
       "      <td>82.200000</td>\n",
       "      <td>51.500000</td>\n",
       "      <td>1480.000000</td>\n",
       "    </tr>\n",
       "  </tbody>\n",
       "</table>\n",
       "</div>"
      ],
      "text/plain": [
       "             num        kcal    protein        fat       carb      sugar  \\\n",
       "count  93.000000   93.000000  93.000000  93.000000  93.000000  93.000000   \n",
       "mean   47.000000  224.906237   8.179785   9.134409  25.115161   6.547204   \n",
       "std    26.990739  123.487710   5.897311   7.415152  20.413844   9.672675   \n",
       "min     1.000000    2.210000   0.000000   0.000000   0.000000   0.000000   \n",
       "25%    24.000000  126.450000   4.520000   3.390000   7.820000   0.720000   \n",
       "50%    47.000000  218.000000   7.100000   6.430000  22.020000   2.470000   \n",
       "75%    70.000000  300.500000   9.630000  14.000000  39.750000   5.640000   \n",
       "max    93.000000  535.000000  32.520000  29.660000  82.200000  51.500000   \n",
       "\n",
       "            sodium  \n",
       "count    93.000000  \n",
       "mean    327.368172  \n",
       "std     240.281200  \n",
       "min       0.190000  \n",
       "25%     185.000000  \n",
       "50%     302.000000  \n",
       "75%     409.000000  \n",
       "max    1480.000000  "
      ]
     },
     "execution_count": 12,
     "metadata": {},
     "output_type": "execute_result"
    }
   ],
   "source": [
    "df_filled.describe()"
   ]
  },
  {
   "cell_type": "markdown",
   "metadata": {},
   "source": [
    "# 2. KNN - 음식 추천"
   ]
  },
  {
   "cell_type": "code",
   "execution_count": 18,
   "metadata": {},
   "outputs": [],
   "source": [
    "from sklearn.neighbors import NearestNeighbors"
   ]
  },
  {
   "cell_type": "markdown",
   "metadata": {},
   "source": [
    "### 1) 클래스 초기화"
   ]
  },
  {
   "cell_type": "code",
   "execution_count": null,
   "metadata": {},
   "outputs": [],
   "source": [
    "def __init__(self, profiles, recent_activity, dataset):\n",
    "    self.df = df_filled\n",
    "    self.profiles = profiles\n",
    "    self.recent_activity = recent_activity"
   ]
  },
  {
   "cell_type": "markdown",
   "metadata": {},
   "source": [
    "<small>\n",
    "\n",
    ">>* profiles: 사용자 프로필 데이터프레임.\n",
    ">>* recent_activity: 사용자의 최근 활동 데이터프레임.\n",
    ">>* dataset: 전체 식사 데이터셋"
   ]
  },
  {
   "cell_type": "markdown",
   "metadata": {},
   "source": [
    "### 2) 특징 추출"
   ]
  },
  {
   "cell_type": "code",
   "execution_count": null,
   "metadata": {},
   "outputs": [],
   "source": [
    "def get_features(self, df_filled):\n",
    "    food_name = df_filled.Food_name.str.get_dummies()\n",
    "    standard_amount = df_filled.Standard_amount.str.get_dummies(sep=' ')\n",
    "    feature_df = pd.concat([food_name, standard_amount], axis=1)\n",
    "    return feature_df"
   ]
  },
  {
   "cell_type": "markdown",
   "metadata": {},
   "source": [
    "<small>\n",
    "\n",
    "- get_features 메서드 = 데이터프레임에서 특징을 추출\n",
    "- food_name, standard_amount(object 형)열 → 원-핫 인코딩하여 더미 변수로 변환\n",
    "- 변환된 더미 변수들을 pd.concat → 하나의 데이터프레임 feature_df로 결합\n",
    "- 최종적으로 feature_df를 반환"
   ]
  },
  {
   "cell_type": "markdown",
   "metadata": {},
   "source": [
    "### 3) 이웃 찾기"
   ]
  },
  {
   "cell_type": "code",
   "execution_count": null,
   "metadata": {},
   "outputs": [],
   "source": [
    "def find_neighbors(self, df_filled, features, k):\n",
    "    features_df = self.get_features(df_filled)\n",
    "    total_features = features_df.columns  \n",
    "    d = dict()\n",
    "    for i in total_features:\n",
    "        d[i] = 0\n",
    "    for i in features:\n",
    "        d[i] = 1\n",
    "    final_input = list(d.values())\n",
    "    similar_neighbors = self.k_neighbor([final_input], features_df, df_filled, k)\n",
    "    return similar_neighbors\n"
   ]
  },
  {
   "cell_type": "markdown",
   "metadata": {},
   "source": [
    "<small>\n",
    "\n",
    ">>* 주어진 특징을 기반으로 가장 유사한 이웃 찾기"
   ]
  },
  {
   "cell_type": "markdown",
   "metadata": {},
   "source": [
    "### 4) 사용자 기반 추천 (user_based 메서드)"
   ]
  },
  {
   "cell_type": "code",
   "execution_count": null,
   "metadata": {},
   "outputs": [],
   "source": [
    "def user_based(self, features, user_id):\n",
    "    similar_users = self.find_neighbors(self.profiles, features, 10)\n",
    "    users = list(similar_users.User_Id)\n",
    "    results = self.recent_activity[self.recent_activity.User_Id.isin(users)]\n",
    "    results = results[results['User_Id'] != user_id]\n",
    "    meals = list(results.Meal_Id.unique())\n",
    "    results = self.df[self.df.Meal_Id.isin(meals)]\n",
    "    results = results.filter(['Meal_Id', 'Name', 'Nutrient', 'Veg_Non', 'description', 'Price', 'Review'])\n",
    "    results = results.drop_duplicates(subset=['Name'])\n",
    "    results = results.reset_index(drop=True)\n",
    "    return results\n"
   ]
  },
  {
   "cell_type": "markdown",
   "metadata": {},
   "source": [
    "<small>\n",
    "\n",
    "* KNN 사용 → 유사한 항목 찾기\n",
    ">>* user_id : 우리 알고리즘에 맞게 수정 필요\n",
    ">>* results = results.filter(['Meal_Id', 'Name', 'Nutrient', 'Veg_Non', 'description', 'Price', 'Review']) → 여기도 BMI, 칼로리, 영양성분 등으로 기준 수정 필요"
   ]
  },
  {
   "cell_type": "markdown",
   "metadata": {},
   "source": [
    "### 5) 주변 식당 추천"
   ]
  },
  {
   "cell_type": "code",
   "execution_count": null,
   "metadata": {},
   "outputs": [],
   "source": []
  },
  {
   "cell_type": "markdown",
   "metadata": {},
   "source": [
    "### 6) 최종 추천"
   ]
  },
  {
   "cell_type": "code",
   "execution_count": null,
   "metadata": {},
   "outputs": [],
   "source": [
    "def recommend(self, user_id):\n",
    "    profile = self.profiles[self.profiles['User_Id'] == user_id]\n",
    "    features = []\n",
    "    features.append(profile['Nutrient'].values[0])\n",
    "    features.extend(profile['Disease'].values[0].split())\n",
    "    features.extend(profile['Diet'].values[0].split())\n",
    "    df1 = self.user_based(features, user_id)\n",
    "    df2 = self.recent_activity_based(user_id)\n",
    "    df = pd.concat([df1, df2])\n",
    "    df = df.drop_duplicates('description').reset_index(drop=True)\n",
    "    return df"
   ]
  },
  {
   "cell_type": "markdown",
   "metadata": {},
   "source": [
    "<small>\n",
    "\n",
    ">* 아래 항목은 수정 필요\n",
    ">>* features.append(profile['Nutrient'].values[0])\n",
    ">>* features.extend(profile['Disease'].values[0].split())\n",
    ">>* features.extend(profile['Diet'].values[0].split())\n",
    "\n",
    ">*  df1 = self.user_based(features, user_id)\n",
    ">>* df2 = self.recent_activity_based(user_id)\n",
    ">>* df = pd.concat([df1, df2])\n",
    ">>* df = df.drop_duplicates('description').reset_index(drop=True)"
   ]
  },
  {
   "cell_type": "markdown",
   "metadata": {},
   "source": [
    "<small>\n",
    "\n",
    "* 아직 지도 API 넣는 방법은 고려 중"
   ]
  }
 ],
 "metadata": {
  "kernelspec": {
   "display_name": "Python 3",
   "language": "python",
   "name": "python3"
  },
  "language_info": {
   "codemirror_mode": {
    "name": "ipython",
    "version": 3
   },
   "file_extension": ".py",
   "mimetype": "text/x-python",
   "name": "python",
   "nbconvert_exporter": "python",
   "pygments_lexer": "ipython3",
   "version": "3.10.0rc2"
  }
 },
 "nbformat": 4,
 "nbformat_minor": 2
}
